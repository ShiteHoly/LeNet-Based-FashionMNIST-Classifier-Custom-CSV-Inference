{
 "cells": [
  {
   "cell_type": "markdown",
   "metadata": {},
   "source": [
    "# Classic LeNet CNN to classify handwritten numbers"
   ]
  },
  {
   "cell_type": "code",
   "metadata": {
    "ExecuteTime": {
     "end_time": "2025-05-25T05:40:29.674223Z",
     "start_time": "2025-05-25T05:40:20.499857Z"
    }
   },
   "source": [
    "import torch\n",
    "from torch import nn\n",
    "from torchvision import datasets, transforms\n",
    "\n",
    "class Reshape(torch.nn.Module):\n",
    "    def forward (self, x):\n",
    "        return x.view(-1,1,28,28)#bactch size unknown here, using -1\n",
    "\n",
    "net = torch.nn.Sequential(\n",
    "    Reshape(), nn.Conv2d(1, 6, kernel_size=5, padding=2), nn.Sigmoid(),\n",
    "    nn.AvgPool2d(kernel_size=2,stride=2),\n",
    "    nn.Conv2d(6, 16, kernel_size=5), nn.Sigmoid(),\n",
    "    nn.AvgPool2d(kernel_size=2, stride=2), nn.Flatten(),\n",
    "    nn.Linear(16*5*5, 120),nn.Sigmoid(),\n",
    "    nn.Linear(120,84), nn.Sigmoid(),\n",
    "    nn.Linear(84, 10)\n",
    ")"
   ],
   "outputs": [],
   "execution_count": 1
  },
  {
   "cell_type": "code",
   "metadata": {
    "ExecuteTime": {
     "end_time": "2025-05-25T05:40:29.727590Z",
     "start_time": "2025-05-25T05:40:29.694535Z"
    }
   },
   "source": [
    "# show what each layer ouputs\n",
    "X = torch.rand(size = (1,1,28,28), dtype=torch.float32)\n",
    "for layer in net:\n",
    "    X = layer(X)\n",
    "    print(layer.__class__.__name__, 'output shape: \\t', X.shape)"
   ],
   "outputs": [
    {
     "name": "stdout",
     "output_type": "stream",
     "text": [
      "Reshape output shape: \t torch.Size([1, 1, 28, 28])\n",
      "Conv2d output shape: \t torch.Size([1, 6, 28, 28])\n",
      "Sigmoid output shape: \t torch.Size([1, 6, 28, 28])\n",
      "AvgPool2d output shape: \t torch.Size([1, 6, 14, 14])\n",
      "Conv2d output shape: \t torch.Size([1, 16, 10, 10])\n",
      "Sigmoid output shape: \t torch.Size([1, 16, 10, 10])\n",
      "AvgPool2d output shape: \t torch.Size([1, 16, 5, 5])\n",
      "Flatten output shape: \t torch.Size([1, 400])\n",
      "Linear output shape: \t torch.Size([1, 120])\n",
      "Sigmoid output shape: \t torch.Size([1, 120])\n",
      "Linear output shape: \t torch.Size([1, 84])\n",
      "Sigmoid output shape: \t torch.Size([1, 84])\n",
      "Linear output shape: \t torch.Size([1, 10])\n"
     ]
    }
   ],
   "execution_count": 2
  },
  {
   "cell_type": "markdown",
   "metadata": {},
   "source": [
    "![LeNet](lenet.jpg)"
   ]
  },
  {
   "cell_type": "code",
   "metadata": {
    "ExecuteTime": {
     "end_time": "2025-05-25T05:40:30.074816Z",
     "start_time": "2025-05-25T05:40:29.945578Z"
    }
   },
   "source": [
    "batch_size = 256\n",
    "train_dataset = datasets.FashionMNIST(\n",
    "    root='data', train=True, download=True,\n",
    "    transform=transforms.ToTensor())\n",
    "test_dataset = datasets.FashionMNIST(\n",
    "    root='data', train=False, download=True,\n",
    "    transform=transforms.ToTensor())\n",
    "\n",
    "train_iter = torch.utils.data.DataLoader(\n",
    "    dataset=train_dataset, batch_size=batch_size, shuffle=True)\n",
    "test_iter = torch.utils.data.DataLoader(\n",
    "    dataset=test_dataset, batch_size=batch_size, shuffle=False)"
   ],
   "outputs": [],
   "execution_count": 3
  },
  {
   "cell_type": "code",
   "metadata": {
    "ExecuteTime": {
     "end_time": "2025-05-25T05:40:30.091204Z",
     "start_time": "2025-05-25T05:40:30.086353Z"
    }
   },
   "source": [
    "def evaluate_accuracy_gpu(net, data_iter, device=None):\n",
    "    if isinstance(net, torch.nn.Module):\n",
    "        net.eval()\n",
    "        if not device:\n",
    "            device = next(iter(net.parameters())).device\n",
    "    metric = torch.zeros(2, device=device)  # metric[0]: correct, metric[1]: total\n",
    "    for X, y in data_iter:\n",
    "        if isinstance(X,list):\n",
    "            X = [x.to(device) for x in X]\n",
    "        else:\n",
    "            X = X.to(device)\n",
    "        y = y.to(device)\n",
    "        with torch.no_grad():\n",
    "            y_hat = net(X)\n",
    "        metric[0] += (y_hat.argmax(dim=1) == y).sum().float()\n",
    "        metric[1] += y.numel()\n",
    "    return metric[0] / metric[1]"
   ],
   "outputs": [],
   "execution_count": 4
  },
  {
   "metadata": {},
   "cell_type": "markdown",
   "source": [
    "# Summary of important variables\n",
    "\n",
    "### Inputs:\n",
    "**X**: Input tensor of images, shape ([batch_size, 1, 28, 28]), dtype float32. Each image is a grayscale FashionMNIST image.\n",
    "\n",
    "**y**: Target tensor of labels, shape ([batch_size]), dtype int64. Each value is an integer from 0 to 9, representing the class.\n",
    "\n",
    "**net**: The neural network (LeNet), which takes X and outputs class scores.\n",
    "\n",
    "**data_iter**: DataLoader yielding batches of (X, y).\n",
    "\n",
    "**device**: The device (CPU or GPU) on which tensors and the model are located.\n",
    "\n",
    "### Outputs:\n",
    "**y_hat**: Output tensor from the network, shape ([batch_size, 10]), dtype float32. Each row contains the (unnormalized) scores for each class.\n",
    "\n",
    "**y_hat.argmax(dim=1)**: Tensor of predicted class indices, shape ([batch_size]), dtype int64. Each value is an integer from 0 to 9.\n",
    "\n",
    "**metric**: A tensor of shape ([2]), dtype float32. metric[0] is the count of correct predictions, metric[1] is the total number of samples processed.\n",
    "\n",
    "**evaluate_accuracy_gpu(...)**: Returns a scalar tensor representing the accuracy (correct predictions / total samples), dtype float32. Value is between 0 and 1."
   ]
  },
  {
   "metadata": {
    "ExecuteTime": {
     "end_time": "2025-05-25T05:40:30.108597Z",
     "start_time": "2025-05-25T05:40:30.102596Z"
    }
   },
   "cell_type": "code",
   "source": [
    "def train_ch6(net, train_iter, test_iter, num_epochs, lr, device):\n",
    "    def init_weights(m):\n",
    "        if type(m) == nn.Linear or type(m) == nn.Conv2d:\n",
    "            nn.init.xavier_uniform_(m.weight)\n",
    "    net.apply(init_weights)\n",
    "    print(\"Training on\", device)\n",
    "    net.to(device)\n",
    "    optimizer = torch.optim.SGD(net.parameters(), lr=lr)\n",
    "    loss = nn.CrossEntropyLoss()\n",
    "    for epoch in range(num_epochs):\n",
    "        net.train()\n",
    "        metric = torch.zeros(2, device=device)  # metric[0]: correct, metric[1]: total\n",
    "        for X, y in train_iter:\n",
    "            X = X.to(device)\n",
    "            y = y.to(device)\n",
    "            y_hat = net(X)\n",
    "            l = loss(y_hat, y)\n",
    "            optimizer.zero_grad()\n",
    "            l.backward()\n",
    "            optimizer.step()\n",
    "            metric[0] += (y_hat.argmax(dim=1) == y).sum().float()\n",
    "            metric[1] += y.numel()\n",
    "        test_acc = evaluate_accuracy_gpu(net, test_iter, device)\n",
    "        print(f'epoch {epoch + 1}, loss {l:f}, train acc {metric[0] / metric[1]:f}, '\n",
    "              f'test acc {test_acc:f}')"
   ],
   "outputs": [],
   "execution_count": 5
  },
  {
   "metadata": {
    "ExecuteTime": {
     "end_time": "2025-05-25T05:41:08.847430Z",
     "start_time": "2025-05-25T05:40:30.118271Z"
    }
   },
   "cell_type": "code",
   "source": [
    "num_epochs, lr = 10, 0.9\n",
    "device = torch.device('cuda' if torch.cuda.is_available() else 'cpu')\n",
    "train_ch6(net, train_iter, test_iter, num_epochs, lr, device)"
   ],
   "outputs": [
    {
     "name": "stdout",
     "output_type": "stream",
     "text": [
      "Training on cuda\n",
      "epoch 1, loss 2.302927, train acc 0.100367, test acc 0.100000\n",
      "epoch 2, loss 1.155304, train acc 0.305350, test acc 0.592200\n",
      "epoch 3, loss 0.829186, train acc 0.636800, test acc 0.689300\n",
      "epoch 4, loss 0.547778, train acc 0.716617, test acc 0.735400\n",
      "epoch 5, loss 0.626177, train acc 0.745567, test acc 0.727100\n",
      "epoch 6, loss 0.559555, train acc 0.770517, test acc 0.771000\n",
      "epoch 7, loss 0.530237, train acc 0.789333, test acc 0.780800\n",
      "epoch 8, loss 0.365916, train acc 0.801133, test acc 0.797600\n",
      "epoch 9, loss 0.398203, train acc 0.814983, test acc 0.811900\n",
      "epoch 10, loss 0.396303, train acc 0.822700, test acc 0.802800\n"
     ]
    }
   ],
   "execution_count": 6
  },
  {
   "metadata": {
    "ExecuteTime": {
     "end_time": "2025-05-25T05:48:58.857824Z",
     "start_time": "2025-05-25T05:48:58.842559Z"
    }
   },
   "cell_type": "code",
   "source": [
    "# Save the model\n",
    "torch.save(net.state_dict(), 'lenet.pth')"
   ],
   "outputs": [],
   "execution_count": 7
  }
 ],
 "metadata": {
  "language_info": {
   "name": "python"
  },
  "kernelspec": {
   "name": "python3",
   "language": "python",
   "display_name": "Python 3 (ipykernel)"
  }
 },
 "nbformat": 4,
 "nbformat_minor": 2
}
